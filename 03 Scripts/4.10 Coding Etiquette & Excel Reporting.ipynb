{
 "cells": [
  {
   "cell_type": "markdown",
   "id": "67e15d56",
   "metadata": {},
   "source": [
    "# Import Libraries"
   ]
  },
  {
   "cell_type": "code",
   "execution_count": 2,
   "id": "11a32f36",
   "metadata": {},
   "outputs": [],
   "source": [
    "# Import libraries\n",
    "import pandas as pd\n",
    "import numpy as np\n",
    "import os\n",
    "import matplotlib.pyplot as plt\n",
    "import seaborn as sns\n",
    "import scipy"
   ]
  },
  {
   "cell_type": "code",
   "execution_count": 3,
   "id": "f2ce8ce4",
   "metadata": {},
   "outputs": [],
   "source": [
    "path = r'C:\\Users\\PC\\Downloads\\MM-2023 Instacart Basket Analysis'"
   ]
  },
  {
   "cell_type": "code",
   "execution_count": 4,
   "id": "6475bd38",
   "metadata": {},
   "outputs": [],
   "source": [
    "df = pd.read_pickle(os.path.join(path, '02 Data', 'Prepared Data', 'orders_products_customers.pkl'))\n",
    "df_depts = pd.read_csv(os.path.join(path, '02 Data','Prepared Data', 'departments_wrangled.csv'), index_col = False)"
   ]
  },
  {
   "cell_type": "markdown",
   "id": "a152df37",
   "metadata": {},
   "source": [
    "# Step 2"
   ]
  },
  {
   "cell_type": "code",
   "execution_count": 5,
   "id": "bf909526",
   "metadata": {},
   "outputs": [],
   "source": [
    "# Dropping First Name column due to PII concerns\n",
    "df = df.drop('First Name', axis=1)"
   ]
  },
  {
   "cell_type": "code",
   "execution_count": 6,
   "id": "ee452aa7",
   "metadata": {},
   "outputs": [],
   "source": [
    "# Dropping Surname column due to PII concerns\n",
    "df = df.drop('Surname', axis=1)"
   ]
  },
  {
   "cell_type": "markdown",
   "id": "97123816",
   "metadata": {},
   "source": [
    "# Step 3"
   ]
  },
  {
   "cell_type": "code",
   "execution_count": 7,
   "id": "4f64a8db",
   "metadata": {},
   "outputs": [
    {
     "data": {
      "text/plain": [
       "Pennsylvania            667082\n",
       "California              659783\n",
       "Rhode Island            656913\n",
       "Georgia                 656389\n",
       "New Mexico              654494\n",
       "Arizona                 653964\n",
       "North Carolina          651900\n",
       "Oklahoma                651739\n",
       "Alaska                  648495\n",
       "Minnesota               647825\n",
       "Massachusetts           646358\n",
       "Wyoming                 644255\n",
       "Virginia                641421\n",
       "Missouri                640732\n",
       "Texas                   640394\n",
       "Colorado                639280\n",
       "Maine                   638583\n",
       "North Dakota            638491\n",
       "Alabama                 638003\n",
       "Kansas                  637538\n",
       "Louisiana               637482\n",
       "Delaware                637024\n",
       "South Carolina          636754\n",
       "Oregon                  636425\n",
       "Arkansas                636144\n",
       "Nevada                  636139\n",
       "New York                635983\n",
       "Montana                 635265\n",
       "South Dakota            633772\n",
       "Illinois                633024\n",
       "Hawaii                  632901\n",
       "Washington              632852\n",
       "Mississippi             632675\n",
       "Kentucky                632490\n",
       "Michigan                630928\n",
       "Florida                 629027\n",
       "Ohio                    628319\n",
       "Wisconsin               628108\n",
       "New Jersey              627692\n",
       "Indiana                 627282\n",
       "Maryland                626579\n",
       "Nebraska                625813\n",
       "Iowa                    625493\n",
       "Connecticut             623022\n",
       "Tennessee               617873\n",
       "New Hampshire           615378\n",
       "District of Columbia    613695\n",
       "West Virginia           612296\n",
       "Utah                    611941\n",
       "Vermont                 611725\n",
       "Idaho                   607119\n",
       "Name: State, dtype: int64"
      ]
     },
     "execution_count": 7,
     "metadata": {},
     "output_type": "execute_result"
    }
   ],
   "source": [
    "# Checking state value counts\n",
    "df['State'].value_counts(dropna = False)"
   ]
  },
  {
   "cell_type": "code",
   "execution_count": 8,
   "id": "449cddfe",
   "metadata": {},
   "outputs": [],
   "source": [
    "# Defining regions\n",
    "Northeast = ['Maine', 'New Hampshire', 'Vermont', 'Massachusetts', 'Rhode Island', 'Connecticut', 'New York', 'Pennsylvania', 'New Jersey']\n",
    "Midwest = ['Wisconsin', 'Michigan', 'Illinois', 'Indiana', 'Ohio', 'North Dakota', 'South Dakota', 'Nebraska', 'Kansas', 'Minnesota', 'Iowa', 'Missouri']\n",
    "South = ['Delaware', 'Maryland', 'District of Columbia', 'Virginia', 'West Virginia', 'North Carolina', 'South Carolina', 'Georgia', 'Florida', 'Kentucky', 'Tennessee', 'Mississippi', 'Alabama', 'Oklahoma', 'Texas', 'Arkansas', 'Louisiana']\n",
    "West = ['Idaho', 'Montana', 'Wyoming', 'Nevada', 'Utah', 'Colorado', 'Arizona', 'New Mexico', 'Alaska', 'Washington', 'Oregon', 'California', 'Hawaii']"
   ]
  },
  {
   "cell_type": "code",
   "execution_count": 9,
   "id": "d1562ee9",
   "metadata": {},
   "outputs": [],
   "source": [
    "# Creating new column with region values\n",
    "\n",
    "df.loc[df['State'].isin(Northeast), 'region'] = 'Northeast'\n",
    "df.loc[df['State'].isin(Midwest), 'region'] = 'Midwest'\n",
    "df.loc[df['State'].isin(South), 'region'] = 'South'\n",
    "df.loc[df['State'].isin(West), 'region'] = 'West'"
   ]
  },
  {
   "cell_type": "code",
   "execution_count": 10,
   "id": "664a893c",
   "metadata": {},
   "outputs": [
    {
     "data": {
      "text/plain": [
       "South        10791885\n",
       "West          8292913\n",
       "Midwest       7597325\n",
       "Northeast     5722736\n",
       "Name: region, dtype: int64"
      ]
     },
     "execution_count": 10,
     "metadata": {},
     "output_type": "execute_result"
    }
   ],
   "source": [
    "# Checking region value counts\n",
    "df['region'].value_counts(dropna = False)"
   ]
  },
  {
   "cell_type": "code",
   "execution_count": 11,
   "id": "65272044",
   "metadata": {},
   "outputs": [],
   "source": [
    "# Creating crosstab of spending_flag and region\n",
    "crosstab = pd.crosstab (df['spending_flag'], df['region'], dropna = False)"
   ]
  },
  {
   "cell_type": "code",
   "execution_count": 12,
   "id": "9af4d5a5",
   "metadata": {},
   "outputs": [
    {
     "data": {
      "text/html": [
       "<div>\n",
       "<style scoped>\n",
       "    .dataframe tbody tr th:only-of-type {\n",
       "        vertical-align: middle;\n",
       "    }\n",
       "\n",
       "    .dataframe tbody tr th {\n",
       "        vertical-align: top;\n",
       "    }\n",
       "\n",
       "    .dataframe thead th {\n",
       "        text-align: right;\n",
       "    }\n",
       "</style>\n",
       "<table border=\"1\" class=\"dataframe\">\n",
       "  <thead>\n",
       "    <tr style=\"text-align: right;\">\n",
       "      <th>region</th>\n",
       "      <th>Midwest</th>\n",
       "      <th>Northeast</th>\n",
       "      <th>South</th>\n",
       "      <th>West</th>\n",
       "    </tr>\n",
       "    <tr>\n",
       "      <th>spending_flag</th>\n",
       "      <th></th>\n",
       "      <th></th>\n",
       "      <th></th>\n",
       "      <th></th>\n",
       "    </tr>\n",
       "  </thead>\n",
       "  <tbody>\n",
       "    <tr>\n",
       "      <th>High spender</th>\n",
       "      <td>155975</td>\n",
       "      <td>108225</td>\n",
       "      <td>209691</td>\n",
       "      <td>160354</td>\n",
       "    </tr>\n",
       "    <tr>\n",
       "      <th>Low spender</th>\n",
       "      <td>7441350</td>\n",
       "      <td>5614511</td>\n",
       "      <td>10582194</td>\n",
       "      <td>8132559</td>\n",
       "    </tr>\n",
       "  </tbody>\n",
       "</table>\n",
       "</div>"
      ],
      "text/plain": [
       "region         Midwest  Northeast     South     West\n",
       "spending_flag                                       \n",
       "High spender    155975     108225    209691   160354\n",
       "Low spender    7441350    5614511  10582194  8132559"
      ]
     },
     "execution_count": 12,
     "metadata": {},
     "output_type": "execute_result"
    }
   ],
   "source": [
    "crosstab"
   ]
  },
  {
   "cell_type": "markdown",
   "id": "199d663a",
   "metadata": {},
   "source": [
    "# Step 4"
   ]
  },
  {
   "cell_type": "code",
   "execution_count": 13,
   "id": "bd51a22a",
   "metadata": {},
   "outputs": [],
   "source": [
    "# Creating activity flag\n",
    "df.loc[df['max_order'] <5, 'activity_flag'] = 'Inactive User'\n",
    "df.loc[df['max_order'] >=5, 'activity_flag'] = 'Active User'"
   ]
  },
  {
   "cell_type": "code",
   "execution_count": 14,
   "id": "c9bc72e7",
   "metadata": {},
   "outputs": [
    {
     "data": {
      "text/plain": [
       "Active User      30964564\n",
       "Inactive User     1440295\n",
       "Name: activity_flag, dtype: int64"
      ]
     },
     "execution_count": 14,
     "metadata": {},
     "output_type": "execute_result"
    }
   ],
   "source": [
    "# Checking region value counts\n",
    "df['activity_flag'].value_counts(dropna = False)"
   ]
  },
  {
   "cell_type": "code",
   "execution_count": 15,
   "id": "b85ecc52",
   "metadata": {},
   "outputs": [],
   "source": [
    "# Creating a subset with only the active users\n",
    "df_active =  df[df['activity_flag']=='Active User']"
   ]
  },
  {
   "cell_type": "code",
   "execution_count": 16,
   "id": "39bf90e1",
   "metadata": {},
   "outputs": [],
   "source": [
    "# Exporting active user only dataframe\n",
    "df_active.to_pickle(os.path.join(path, '02 Data','Prepared Data', 'opc_active.pkl'))"
   ]
  },
  {
   "cell_type": "markdown",
   "id": "44b89fbb",
   "metadata": {},
   "source": [
    "# Step 5"
   ]
  },
  {
   "cell_type": "markdown",
   "id": "49975138",
   "metadata": {},
   "source": [
    "#### I am going to divide people as follows:\n",
    "\n",
    "### Age:\n",
    "30 and below = Young\n",
    "\n",
    "Between 31 and 59 = Middle aged\n",
    "\n",
    "60 and above = Elderly\n",
    "\n",
    "\n",
    "### Income:\n",
    "50k or lower = Low income\n",
    "\n",
    "Between 50k and 100k = Middling income\n",
    "\n",
    "100k or higher = High income\n",
    "\n",
    "\n",
    "### Household status:\n",
    "No dependants = Childless\n",
    "\n",
    "1 or 2 dependants = Few children\n",
    "\n",
    "2 or more dependants = Many children\n",
    "\n",
    "Divorced/widowed with children OR single without children = Single\n",
    "Married without children = Couple\n",
    "Divorced/widowed with children OR single with children = Single parent\n",
    "Married with children OR living with parents and siblings  = Family\n",
    "\n",
    "\n",
    "### Purchasing habits:\n",
    "Has never purchased anything from the \"meat seafood\" or \"dairy eggs\" department = Vegan\n",
    "Otherwise = Non-Vegan\n",
    "\n",
    "Has never purchased anything from the \"pets\" department = No Pets\n",
    "Otherwise = Has Pets\n",
    "\n",
    "Has never purchased anything from the \"babies\" department = \"Has Baby\": No\n",
    "Otherwise = \"Has Baby\": Yes"
   ]
  },
  {
   "cell_type": "markdown",
   "id": "5beefd31",
   "metadata": {},
   "source": [
    "## Getting descriptive statistics for our factors"
   ]
  },
  {
   "cell_type": "code",
   "execution_count": 17,
   "id": "dd06002c",
   "metadata": {},
   "outputs": [
    {
     "data": {
      "text/plain": [
       "count    3.096456e+07\n",
       "mean     4.946803e+01\n",
       "std      1.848528e+01\n",
       "min      1.800000e+01\n",
       "25%      3.300000e+01\n",
       "50%      4.900000e+01\n",
       "75%      6.500000e+01\n",
       "max      8.100000e+01\n",
       "Name: Age, dtype: float64"
      ]
     },
     "execution_count": 17,
     "metadata": {},
     "output_type": "execute_result"
    }
   ],
   "source": [
    "# Getting descriptive statistics for age\n",
    "df_active['Age'].describe()"
   ]
  },
  {
   "cell_type": "code",
   "execution_count": 18,
   "id": "bb980fe8",
   "metadata": {},
   "outputs": [
    {
     "data": {
      "text/plain": [
       "count    3.096456e+07\n",
       "mean     9.967587e+04\n",
       "std      4.314187e+04\n",
       "min      2.590300e+04\n",
       "25%      6.729200e+04\n",
       "50%      9.676500e+04\n",
       "75%      1.281020e+05\n",
       "max      5.939010e+05\n",
       "Name: income, dtype: float64"
      ]
     },
     "execution_count": 18,
     "metadata": {},
     "output_type": "execute_result"
    }
   ],
   "source": [
    "# Getting descriptive statistics for income\n",
    "df_active['income'].describe()"
   ]
  },
  {
   "cell_type": "code",
   "execution_count": 19,
   "id": "6c5efd17",
   "metadata": {},
   "outputs": [
    {
     "data": {
      "text/plain": [
       "count    3.096456e+07\n",
       "mean     1.501819e+00\n",
       "std      1.118896e+00\n",
       "min      0.000000e+00\n",
       "25%      1.000000e+00\n",
       "50%      2.000000e+00\n",
       "75%      3.000000e+00\n",
       "max      3.000000e+00\n",
       "Name: n_dependants, dtype: float64"
      ]
     },
     "execution_count": 19,
     "metadata": {},
     "output_type": "execute_result"
    }
   ],
   "source": [
    "# Getting descriptive statistics for dependants\n",
    "df_active['n_dependants'].describe()"
   ]
  },
  {
   "cell_type": "code",
   "execution_count": 20,
   "id": "cb135c48",
   "metadata": {},
   "outputs": [
    {
     "data": {
      "text/plain": [
       "married                             21743711\n",
       "single                               5094410\n",
       "divorced/widowed                     2645271\n",
       "living with parents and siblings     1481172\n",
       "Name: fam_status, dtype: int64"
      ]
     },
     "execution_count": 20,
     "metadata": {},
     "output_type": "execute_result"
    }
   ],
   "source": [
    "# Checking family status value counts\n",
    "df_active['fam_status'].value_counts(dropna = False)"
   ]
  },
  {
   "cell_type": "markdown",
   "id": "bbb1e9c8",
   "metadata": {},
   "source": [
    "## Grouping"
   ]
  },
  {
   "cell_type": "markdown",
   "id": "fdbbf730",
   "metadata": {},
   "source": [
    "### Age"
   ]
  },
  {
   "cell_type": "code",
   "execution_count": 21,
   "id": "53b378d3",
   "metadata": {},
   "outputs": [
    {
     "name": "stderr",
     "output_type": "stream",
     "text": [
      "C:\\Users\\PC\\AppData\\Local\\Temp\\ipykernel_18112\\2528662646.py:2: SettingWithCopyWarning: \n",
      "A value is trying to be set on a copy of a slice from a DataFrame.\n",
      "Try using .loc[row_indexer,col_indexer] = value instead\n",
      "\n",
      "See the caveats in the documentation: https://pandas.pydata.org/pandas-docs/stable/user_guide/indexing.html#returning-a-view-versus-a-copy\n",
      "  df_active.loc[df_active['Age'] <= 30, 'age_group'] = 'Young'\n"
     ]
    }
   ],
   "source": [
    "# Defining age groups\n",
    "df_active.loc[df_active['Age'] <= 30, 'age_group'] = 'Young'\n",
    "df_active.loc[(df_active['Age'] > 30) & (df_active['Age'] < 60), 'age_group'] = 'Middle aged'\n",
    "df_active.loc[df_active['Age'] >= 60, 'age_group'] = 'Elderly'"
   ]
  },
  {
   "cell_type": "code",
   "execution_count": 22,
   "id": "b67fa93b",
   "metadata": {},
   "outputs": [
    {
     "data": {
      "text/plain": [
       "Middle aged    14085820\n",
       "Elderly        10574504\n",
       "Young           6304240\n",
       "Name: age_group, dtype: int64"
      ]
     },
     "execution_count": 22,
     "metadata": {},
     "output_type": "execute_result"
    }
   ],
   "source": [
    "# Checking age_group value counts\n",
    "df_active['age_group'].value_counts()"
   ]
  },
  {
   "cell_type": "markdown",
   "id": "0f808a11",
   "metadata": {},
   "source": [
    "### Income"
   ]
  },
  {
   "cell_type": "code",
   "execution_count": 23,
   "id": "1112ea19",
   "metadata": {},
   "outputs": [
    {
     "name": "stderr",
     "output_type": "stream",
     "text": [
      "C:\\Users\\PC\\AppData\\Local\\Temp\\ipykernel_18112\\2281676054.py:2: SettingWithCopyWarning: \n",
      "A value is trying to be set on a copy of a slice from a DataFrame.\n",
      "Try using .loc[row_indexer,col_indexer] = value instead\n",
      "\n",
      "See the caveats in the documentation: https://pandas.pydata.org/pandas-docs/stable/user_guide/indexing.html#returning-a-view-versus-a-copy\n",
      "  df_active.loc[df_active['income'] <= 50000, 'income_group'] = 'Low income'\n"
     ]
    }
   ],
   "source": [
    "# Defining income groups\n",
    "df_active.loc[df_active['income'] <= 50000, 'income_group'] = 'Low income'\n",
    "df_active.loc[(df_active['income'] > 50000) & (df_active['income'] < 100000), 'income_group'] = 'Middling income'\n",
    "df_active.loc[df_active['income'] >= 100000, 'income_group'] = 'High income'"
   ]
  },
  {
   "cell_type": "code",
   "execution_count": 24,
   "id": "7636b9f5",
   "metadata": {},
   "outputs": [
    {
     "data": {
      "text/plain": [
       "High income        14207402\n",
       "Middling income    13394608\n",
       "Low income          3362554\n",
       "Name: income_group, dtype: int64"
      ]
     },
     "execution_count": 24,
     "metadata": {},
     "output_type": "execute_result"
    }
   ],
   "source": [
    "# Checking income_group value counts\n",
    "df_active['income_group'].value_counts()"
   ]
  },
  {
   "cell_type": "markdown",
   "id": "76bfc785",
   "metadata": {},
   "source": [
    "### Household"
   ]
  },
  {
   "cell_type": "code",
   "execution_count": 25,
   "id": "19b9b82a",
   "metadata": {},
   "outputs": [
    {
     "name": "stderr",
     "output_type": "stream",
     "text": [
      "C:\\Users\\PC\\AppData\\Local\\Temp\\ipykernel_18112\\2103556428.py:2: SettingWithCopyWarning: \n",
      "A value is trying to be set on a copy of a slice from a DataFrame.\n",
      "Try using .loc[row_indexer,col_indexer] = value instead\n",
      "\n",
      "See the caveats in the documentation: https://pandas.pydata.org/pandas-docs/stable/user_guide/indexing.html#returning-a-view-versus-a-copy\n",
      "  df_active.loc[df_active['n_dependants'] == 0, 'dependant_group'] = 'Childless'\n"
     ]
    }
   ],
   "source": [
    "# Defining dependant groups\n",
    "df_active.loc[df_active['n_dependants'] == 0, 'dependant_group'] = 'Childless'\n",
    "df_active.loc[(df_active['n_dependants'] == 1) | (df_active['n_dependants'] == 2), 'dependant_group'] = 'Few children'\n",
    "df_active.loc[df_active['n_dependants'] >= 3, 'dependant_group'] = 'Many children'"
   ]
  },
  {
   "cell_type": "code",
   "execution_count": 26,
   "id": "75f24d98",
   "metadata": {},
   "outputs": [
    {
     "data": {
      "text/plain": [
       "Few children     15452367\n",
       "Many children     7772516\n",
       "Childless         7739681\n",
       "Name: dependant_group, dtype: int64"
      ]
     },
     "execution_count": 26,
     "metadata": {},
     "output_type": "execute_result"
    }
   ],
   "source": [
    "# Checking dependant_group value counts\n",
    "df_active['dependant_group'].value_counts()"
   ]
  },
  {
   "cell_type": "code",
   "execution_count": 27,
   "id": "3e83c31b",
   "metadata": {},
   "outputs": [
    {
     "name": "stderr",
     "output_type": "stream",
     "text": [
      "C:\\Users\\PC\\AppData\\Local\\Temp\\ipykernel_18112\\2646967988.py:2: SettingWithCopyWarning: \n",
      "A value is trying to be set on a copy of a slice from a DataFrame.\n",
      "Try using .loc[row_indexer,col_indexer] = value instead\n",
      "\n",
      "See the caveats in the documentation: https://pandas.pydata.org/pandas-docs/stable/user_guide/indexing.html#returning-a-view-versus-a-copy\n",
      "  df_active.loc[(df_active['fam_status'] == 'married') & (df_active['n_dependants'] == 0), 'household'] = 'Couple'\n"
     ]
    }
   ],
   "source": [
    "# Defining household groups\n",
    "df_active.loc[(df_active['fam_status'] == 'married') & (df_active['n_dependants'] == 0), 'household'] = 'Couple'\n",
    "df_active.loc[(df_active['fam_status'] == 'married') & (df_active['n_dependants'] >= 1), 'household'] = 'Family'\n",
    "df_active.loc[(df_active['fam_status'] == 'divorced/widowed') | (df_active['fam_status'] == 'single'), 'household'] = 'Single'\n",
    "df_active.loc[(df_active['fam_status'] == 'divorced/widowed') & (df_active['n_dependants'] >= 1 ), 'household'] = 'Single Parent'\n",
    "df_active.loc[df_active['fam_status'] == 'living with parents and siblings', 'household'] = 'Family'"
   ]
  },
  {
   "cell_type": "code",
   "execution_count": 28,
   "id": "e0056bfa",
   "metadata": {},
   "outputs": [
    {
     "data": {
      "text/plain": [
       "Family    23224883\n",
       "Single     7739681\n",
       "Name: household, dtype: int64"
      ]
     },
     "execution_count": 28,
     "metadata": {},
     "output_type": "execute_result"
    }
   ],
   "source": [
    "# Checking household value counts\n",
    "df_active['household'].value_counts()"
   ]
  },
  {
   "cell_type": "markdown",
   "id": "dbdbe2fd",
   "metadata": {},
   "source": [
    "### Purchasing habits"
   ]
  },
  {
   "cell_type": "code",
   "execution_count": 29,
   "id": "32dbbbfd",
   "metadata": {},
   "outputs": [
    {
     "data": {
      "text/html": [
       "<div>\n",
       "<style scoped>\n",
       "    .dataframe tbody tr th:only-of-type {\n",
       "        vertical-align: middle;\n",
       "    }\n",
       "\n",
       "    .dataframe tbody tr th {\n",
       "        vertical-align: top;\n",
       "    }\n",
       "\n",
       "    .dataframe thead th {\n",
       "        text-align: right;\n",
       "    }\n",
       "</style>\n",
       "<table border=\"1\" class=\"dataframe\">\n",
       "  <thead>\n",
       "    <tr style=\"text-align: right;\">\n",
       "      <th></th>\n",
       "      <th>Unnamed: 0</th>\n",
       "      <th>department</th>\n",
       "    </tr>\n",
       "  </thead>\n",
       "  <tbody>\n",
       "    <tr>\n",
       "      <th>0</th>\n",
       "      <td>1</td>\n",
       "      <td>frozen</td>\n",
       "    </tr>\n",
       "    <tr>\n",
       "      <th>1</th>\n",
       "      <td>2</td>\n",
       "      <td>other</td>\n",
       "    </tr>\n",
       "    <tr>\n",
       "      <th>2</th>\n",
       "      <td>3</td>\n",
       "      <td>bakery</td>\n",
       "    </tr>\n",
       "    <tr>\n",
       "      <th>3</th>\n",
       "      <td>4</td>\n",
       "      <td>produce</td>\n",
       "    </tr>\n",
       "    <tr>\n",
       "      <th>4</th>\n",
       "      <td>5</td>\n",
       "      <td>alcohol</td>\n",
       "    </tr>\n",
       "    <tr>\n",
       "      <th>5</th>\n",
       "      <td>6</td>\n",
       "      <td>international</td>\n",
       "    </tr>\n",
       "    <tr>\n",
       "      <th>6</th>\n",
       "      <td>7</td>\n",
       "      <td>beverages</td>\n",
       "    </tr>\n",
       "    <tr>\n",
       "      <th>7</th>\n",
       "      <td>8</td>\n",
       "      <td>pets</td>\n",
       "    </tr>\n",
       "    <tr>\n",
       "      <th>8</th>\n",
       "      <td>9</td>\n",
       "      <td>dry goods pasta</td>\n",
       "    </tr>\n",
       "    <tr>\n",
       "      <th>9</th>\n",
       "      <td>10</td>\n",
       "      <td>bulk</td>\n",
       "    </tr>\n",
       "    <tr>\n",
       "      <th>10</th>\n",
       "      <td>11</td>\n",
       "      <td>personal care</td>\n",
       "    </tr>\n",
       "    <tr>\n",
       "      <th>11</th>\n",
       "      <td>12</td>\n",
       "      <td>meat seafood</td>\n",
       "    </tr>\n",
       "    <tr>\n",
       "      <th>12</th>\n",
       "      <td>13</td>\n",
       "      <td>pantry</td>\n",
       "    </tr>\n",
       "    <tr>\n",
       "      <th>13</th>\n",
       "      <td>14</td>\n",
       "      <td>breakfast</td>\n",
       "    </tr>\n",
       "    <tr>\n",
       "      <th>14</th>\n",
       "      <td>15</td>\n",
       "      <td>canned goods</td>\n",
       "    </tr>\n",
       "    <tr>\n",
       "      <th>15</th>\n",
       "      <td>16</td>\n",
       "      <td>dairy eggs</td>\n",
       "    </tr>\n",
       "    <tr>\n",
       "      <th>16</th>\n",
       "      <td>17</td>\n",
       "      <td>household</td>\n",
       "    </tr>\n",
       "    <tr>\n",
       "      <th>17</th>\n",
       "      <td>18</td>\n",
       "      <td>babies</td>\n",
       "    </tr>\n",
       "    <tr>\n",
       "      <th>18</th>\n",
       "      <td>19</td>\n",
       "      <td>snacks</td>\n",
       "    </tr>\n",
       "    <tr>\n",
       "      <th>19</th>\n",
       "      <td>20</td>\n",
       "      <td>deli</td>\n",
       "    </tr>\n",
       "    <tr>\n",
       "      <th>20</th>\n",
       "      <td>21</td>\n",
       "      <td>missing</td>\n",
       "    </tr>\n",
       "  </tbody>\n",
       "</table>\n",
       "</div>"
      ],
      "text/plain": [
       "    Unnamed: 0       department\n",
       "0            1           frozen\n",
       "1            2            other\n",
       "2            3           bakery\n",
       "3            4          produce\n",
       "4            5          alcohol\n",
       "5            6    international\n",
       "6            7        beverages\n",
       "7            8             pets\n",
       "8            9  dry goods pasta\n",
       "9           10             bulk\n",
       "10          11    personal care\n",
       "11          12     meat seafood\n",
       "12          13           pantry\n",
       "13          14        breakfast\n",
       "14          15     canned goods\n",
       "15          16       dairy eggs\n",
       "16          17        household\n",
       "17          18           babies\n",
       "18          19           snacks\n",
       "19          20             deli\n",
       "20          21          missing"
      ]
     },
     "execution_count": 29,
     "metadata": {},
     "output_type": "execute_result"
    }
   ],
   "source": [
    "df_depts"
   ]
  },
  {
   "cell_type": "code",
   "execution_count": 30,
   "id": "a1c4cb86",
   "metadata": {},
   "outputs": [],
   "source": [
    "# Renaming index column\n",
    "df_depts.rename(columns= {\"Unnamed: 0\": \"department_id\"}, inplace=True)"
   ]
  },
  {
   "cell_type": "code",
   "execution_count": 31,
   "id": "4903950f",
   "metadata": {},
   "outputs": [],
   "source": [
    "# Creating data dictionary\n",
    "depts_dictionary=dict(zip(df_depts[\"department_id\"], df_depts[\"department\"]))"
   ]
  },
  {
   "cell_type": "code",
   "execution_count": 32,
   "id": "376f961b",
   "metadata": {},
   "outputs": [
    {
     "data": {
      "text/plain": [
       "{1: 'frozen',\n",
       " 2: 'other',\n",
       " 3: 'bakery',\n",
       " 4: 'produce',\n",
       " 5: 'alcohol',\n",
       " 6: 'international',\n",
       " 7: 'beverages',\n",
       " 8: 'pets',\n",
       " 9: 'dry goods pasta',\n",
       " 10: 'bulk',\n",
       " 11: 'personal care',\n",
       " 12: 'meat seafood',\n",
       " 13: 'pantry',\n",
       " 14: 'breakfast',\n",
       " 15: 'canned goods',\n",
       " 16: 'dairy eggs',\n",
       " 17: 'household',\n",
       " 18: 'babies',\n",
       " 19: 'snacks',\n",
       " 20: 'deli',\n",
       " 21: 'missing'}"
      ]
     },
     "execution_count": 32,
     "metadata": {},
     "output_type": "execute_result"
    }
   ],
   "source": [
    "depts_dictionary"
   ]
  },
  {
   "cell_type": "code",
   "execution_count": 33,
   "id": "df61caea",
   "metadata": {},
   "outputs": [
    {
     "name": "stderr",
     "output_type": "stream",
     "text": [
      "C:\\Users\\PC\\AppData\\Local\\Temp\\ipykernel_18112\\999691873.py:2: SettingWithCopyWarning: \n",
      "A value is trying to be set on a copy of a slice from a DataFrame.\n",
      "Try using .loc[row_indexer,col_indexer] = value instead\n",
      "\n",
      "See the caveats in the documentation: https://pandas.pydata.org/pandas-docs/stable/user_guide/indexing.html#returning-a-view-versus-a-copy\n",
      "  df_active['department'] = df_active['department_id'].map(depts_dictionary)\n"
     ]
    }
   ],
   "source": [
    "# Mapping dictionary to dataframe\n",
    "df_active['department'] = df_active['department_id'].map(depts_dictionary)"
   ]
  },
  {
   "cell_type": "code",
   "execution_count": 34,
   "id": "3f9e264d",
   "metadata": {},
   "outputs": [
    {
     "data": {
      "text/plain": [
       "produce            9079273\n",
       "dairy eggs         5177182\n",
       "snacks             2766406\n",
       "beverages          2571901\n",
       "frozen             2121731\n",
       "pantry             1782705\n",
       "bakery             1120828\n",
       "canned goods       1012074\n",
       "deli               1003834\n",
       "dry goods pasta     822136\n",
       "household           699857\n",
       "meat seafood        674781\n",
       "breakfast           670850\n",
       "personal care       424306\n",
       "babies              410392\n",
       "international       255991\n",
       "alcohol             144627\n",
       "pets                 93060\n",
       "missing              64768\n",
       "other                34411\n",
       "bulk                 33451\n",
       "Name: department, dtype: int64"
      ]
     },
     "execution_count": 34,
     "metadata": {},
     "output_type": "execute_result"
    }
   ],
   "source": [
    "# Checking department value counts\n",
    "df_active['department'].value_counts(dropna = False)"
   ]
  },
  {
   "cell_type": "code",
   "execution_count": 35,
   "id": "3a406ab8",
   "metadata": {},
   "outputs": [],
   "source": [
    "# Creating a vegan flag\n",
    "result = []\n",
    "for value in df_active['department_id']:\n",
    "    if value not in (12, 16):\n",
    "        result.append('Vegan')\n",
    "    else:\n",
    "        result.append('Non-Vegan')"
   ]
  },
  {
   "cell_type": "code",
   "execution_count": 36,
   "id": "044344ef",
   "metadata": {},
   "outputs": [
    {
     "name": "stderr",
     "output_type": "stream",
     "text": [
      "C:\\Users\\PC\\AppData\\Local\\Temp\\ipykernel_18112\\1965794938.py:2: SettingWithCopyWarning: \n",
      "A value is trying to be set on a copy of a slice from a DataFrame.\n",
      "Try using .loc[row_indexer,col_indexer] = value instead\n",
      "\n",
      "See the caveats in the documentation: https://pandas.pydata.org/pandas-docs/stable/user_guide/indexing.html#returning-a-view-versus-a-copy\n",
      "  df_active['vegan'] = result\n"
     ]
    }
   ],
   "source": [
    "# Assigning result to vegan column\n",
    "df_active['vegan'] = result"
   ]
  },
  {
   "cell_type": "code",
   "execution_count": 37,
   "id": "b84a997d",
   "metadata": {},
   "outputs": [
    {
     "data": {
      "text/plain": [
       "Vegan        25112601\n",
       "Non-Vegan     5851963\n",
       "Name: vegan, dtype: int64"
      ]
     },
     "execution_count": 37,
     "metadata": {},
     "output_type": "execute_result"
    }
   ],
   "source": [
    "# Checking vegan value counts\n",
    "df_active['vegan'].value_counts(dropna = False)"
   ]
  },
  {
   "cell_type": "code",
   "execution_count": 38,
   "id": "9a707023",
   "metadata": {},
   "outputs": [
    {
     "name": "stderr",
     "output_type": "stream",
     "text": [
      "C:\\Users\\PC\\AppData\\Local\\Temp\\ipykernel_18112\\3019977397.py:2: SettingWithCopyWarning: \n",
      "A value is trying to be set on a copy of a slice from a DataFrame.\n",
      "Try using .loc[row_indexer,col_indexer] = value instead\n",
      "\n",
      "See the caveats in the documentation: https://pandas.pydata.org/pandas-docs/stable/user_guide/indexing.html#returning-a-view-versus-a-copy\n",
      "  df_active.loc[df_active['department'] == 'pets', 'pet_owner'] = 'Has Pets'\n"
     ]
    }
   ],
   "source": [
    "# Creating pet_owner column\n",
    "df_active.loc[df_active['department'] == 'pets', 'pet_owner'] = 'Has Pets'\n",
    "df_active.loc[df_active['department'] != 'pets', 'pet_owner'] = 'No Pets'"
   ]
  },
  {
   "cell_type": "code",
   "execution_count": 39,
   "id": "376a01f3",
   "metadata": {},
   "outputs": [
    {
     "data": {
      "text/plain": [
       "No Pets     30871504\n",
       "Has Pets       93060\n",
       "Name: pet_owner, dtype: int64"
      ]
     },
     "execution_count": 39,
     "metadata": {},
     "output_type": "execute_result"
    }
   ],
   "source": [
    "# Checking pet_owner value counts\n",
    "df_active['pet_owner'].value_counts(dropna = False)"
   ]
  },
  {
   "cell_type": "code",
   "execution_count": 40,
   "id": "5581f993",
   "metadata": {},
   "outputs": [
    {
     "name": "stderr",
     "output_type": "stream",
     "text": [
      "C:\\Users\\PC\\AppData\\Local\\Temp\\ipykernel_18112\\1403995369.py:2: SettingWithCopyWarning: \n",
      "A value is trying to be set on a copy of a slice from a DataFrame.\n",
      "Try using .loc[row_indexer,col_indexer] = value instead\n",
      "\n",
      "See the caveats in the documentation: https://pandas.pydata.org/pandas-docs/stable/user_guide/indexing.html#returning-a-view-versus-a-copy\n",
      "  df_active.loc[df_active['department'] == 'babies', 'has_baby'] = 'Yes'\n"
     ]
    }
   ],
   "source": [
    "# Creating has_baby column\n",
    "df_active.loc[df_active['department'] == 'babies', 'has_baby'] = 'Yes'\n",
    "df_active.loc[df_active['department'] != 'babies', 'has_baby'] = 'No'"
   ]
  },
  {
   "cell_type": "code",
   "execution_count": 41,
   "id": "a6c0dc7f",
   "metadata": {},
   "outputs": [
    {
     "data": {
      "text/plain": [
       "No     30554172\n",
       "Yes      410392\n",
       "Name: has_baby, dtype: int64"
      ]
     },
     "execution_count": 41,
     "metadata": {},
     "output_type": "execute_result"
    }
   ],
   "source": [
    "# Checking has_baby value counts\n",
    "df_active['has_baby'].value_counts(dropna = False)"
   ]
  },
  {
   "cell_type": "markdown",
   "id": "3a1bb929",
   "metadata": {},
   "source": [
    "# Step 6"
   ]
  },
  {
   "cell_type": "code",
   "execution_count": 42,
   "id": "4950be7c",
   "metadata": {},
   "outputs": [
    {
     "data": {
      "text/plain": [
       "Text(0.5, 1.0, 'Customers by age group')"
      ]
     },
     "execution_count": 42,
     "metadata": {},
     "output_type": "execute_result"
    },
    {
     "data": {
      "image/png": "[encoded data removed]",
      "text/plain": [
       "<Figure size 640x480 with 1 Axes>"
      ]
     },
     "metadata": {},
     "output_type": "display_data"
    }
   ],
   "source": [
    "# Creating a bar chart for age_group\n",
    "bar_age = df_active['age_group'].value_counts().plot.bar(color =['#43b02a', '#ff8200', '#43b02a'])\n",
    "plt.ylabel('Customer in millions', fontsize = 8)\n",
    "plt.title('Customers by age group', fontsize = 12, pad=16)"
   ]
  },
  {
   "cell_type": "code",
   "execution_count": 43,
   "id": "2b371af2",
   "metadata": {},
   "outputs": [
    {
     "data": {
      "text/plain": [
       "Text(0.5, 1.0, 'Customers by income')"
      ]
     },
     "execution_count": 43,
     "metadata": {},
     "output_type": "execute_result"
    },
    {
     "data": {
      "image/png": "[encoded data removed]",
      "text/plain": [
       "<Figure size 640x480 with 1 Axes>"
      ]
     },
     "metadata": {},
     "output_type": "display_data"
    }
   ],
   "source": [
    "# Creating a bar chart for income_group\n",
    "bar_income = df_active['income_group'].value_counts().plot.bar(color =['#43b02a', '#ff8200', '#43b02a'])\n",
    "plt.ylabel('Customer in millions', fontsize = 8)\n",
    "plt.title('Customers by income', fontsize = 12, pad=16)"
   ]
  },
  {
   "cell_type": "code",
   "execution_count": 44,
   "id": "a67b35a1",
   "metadata": {},
   "outputs": [
    {
     "data": {
      "text/plain": [
       "Text(0.5, 1.0, 'Customers by number of children')"
      ]
     },
     "execution_count": 44,
     "metadata": {},
     "output_type": "execute_result"
    },
    {
     "data": {
      "image/png": "[encoded data removed]",
      "text/plain": [
       "<Figure size 640x480 with 1 Axes>"
      ]
     },
     "metadata": {},
     "output_type": "display_data"
    }
   ],
   "source": [
    "# Creating a bar chart for dependant_group\n",
    "bar_children = df_active['dependant_group'].value_counts().plot.bar(color =['#43b02a', '#ff8200', '#43b02a'])\n",
    "plt.ylabel('Customer in millions', fontsize = 8)\n",
    "plt.title('Customers by number of children', fontsize = 12, pad=16)"
   ]
  },
  {
   "cell_type": "code",
   "execution_count": 45,
   "id": "f22eef01",
   "metadata": {},
   "outputs": [
    {
     "data": {
      "text/plain": [
       "Text(0.5, 1.0, 'Household Distribution')"
      ]
     },
     "execution_count": 45,
     "metadata": {},
     "output_type": "execute_result"
    },
    {
     "data": {
      "image/png": "[encoded data removed]",
      "text/plain": [
       "<Figure size 640x480 with 1 Axes>"
      ]
     },
     "metadata": {},
     "output_type": "display_data"
    }
   ],
   "source": [
    "# Creating a pie chart for household\n",
    "pie_household = df_active['household'].value_counts().plot.pie(labels = ['Family','Single'], colors = ['#ff8200','#43b02a'])\n",
    "plt.title( \"Household Distribution\", fontsize= '12')"
   ]
  },
  {
   "cell_type": "code",
   "execution_count": 46,
   "id": "8e2b95b7",
   "metadata": {},
   "outputs": [
    {
     "data": {
      "text/plain": [
       "Text(0.5, 1.0, 'Veganism Distribution')"
      ]
     },
     "execution_count": 46,
     "metadata": {},
     "output_type": "execute_result"
    },
    {
     "data": {
      "image/png": "[encoded data removed]",
      "text/plain": [
       "<Figure size 640x480 with 1 Axes>"
      ]
     },
     "metadata": {},
     "output_type": "display_data"
    }
   ],
   "source": [
    "# Creating a pie chart for vegan distribution\n",
    "pie_vegan = df_active['vegan'].value_counts().plot.pie(labels = ['Vegan','Non-Vegan'], colors = ['#ff8200','#43b02a'])\n",
    "plt.title( \"Veganism Distribution\", fontsize= '12')"
   ]
  },
  {
   "cell_type": "code",
   "execution_count": 47,
   "id": "1bf3f36a",
   "metadata": {},
   "outputs": [
    {
     "data": {
      "text/plain": [
       "Text(0.5, 1.0, 'Pet Ownership')"
      ]
     },
     "execution_count": 47,
     "metadata": {},
     "output_type": "execute_result"
    },
    {
     "data": {
      "image/png": "[encoded data removed]",
      "text/plain": [
       "<Figure size 640x480 with 1 Axes>"
      ]
     },
     "metadata": {},
     "output_type": "display_data"
    }
   ],
   "source": [
    "# Creating a pie chart for pet ownership distribution\n",
    "pie_pets = df_active['vegan'].value_counts().plot.pie(labels = ['Has Pets','No Pets'], colors = ['#ff8200','#43b02a'])\n",
    "plt.title( \"Pet Ownership\", fontsize= '12')"
   ]
  },
  {
   "cell_type": "code",
   "execution_count": 63,
   "id": "fb42bdcd",
   "metadata": {},
   "outputs": [
    {
     "data": {
      "text/plain": [
       "Text(0.5, 1.0, 'New parents')"
      ]
     },
     "execution_count": 63,
     "metadata": {},
     "output_type": "execute_result"
    },
    {
     "data": {
      "image/png": "[encoded data removed]",
      "text/plain": [
       "<Figure size 640x480 with 1 Axes>"
      ]
     },
     "metadata": {},
     "output_type": "display_data"
    }
   ],
   "source": [
    "# Creating a pie chart for pet ownership distribution\n",
    "pie_baby = df_active['has_baby'].value_counts().plot.pie(labels = ['No','Yes'], colors = ['#ff8200','#43b02a'])\n",
    "plt.title( \"New parents\", fontsize= '12')"
   ]
  },
  {
   "cell_type": "markdown",
   "id": "bfdf935f",
   "metadata": {},
   "source": [
    "# Step 8"
   ]
  },
  {
   "cell_type": "code",
   "execution_count": 49,
   "id": "9df38ede",
   "metadata": {},
   "outputs": [
    {
     "data": {
      "text/html": [
       "<div>\n",
       "<style scoped>\n",
       "    .dataframe tbody tr th:only-of-type {\n",
       "        vertical-align: middle;\n",
       "    }\n",
       "\n",
       "    .dataframe tbody tr th {\n",
       "        vertical-align: top;\n",
       "    }\n",
       "\n",
       "    .dataframe thead tr th {\n",
       "        text-align: left;\n",
       "    }\n",
       "\n",
       "    .dataframe thead tr:last-of-type th {\n",
       "        text-align: right;\n",
       "    }\n",
       "</style>\n",
       "<table border=\"1\" class=\"dataframe\">\n",
       "  <thead>\n",
       "    <tr>\n",
       "      <th></th>\n",
       "      <th colspan=\"3\" halign=\"left\">prices</th>\n",
       "    </tr>\n",
       "    <tr>\n",
       "      <th></th>\n",
       "      <th>mean</th>\n",
       "      <th>min</th>\n",
       "      <th>max</th>\n",
       "    </tr>\n",
       "    <tr>\n",
       "      <th>department</th>\n",
       "      <th></th>\n",
       "      <th></th>\n",
       "      <th></th>\n",
       "    </tr>\n",
       "  </thead>\n",
       "  <tbody>\n",
       "    <tr>\n",
       "      <th>alcohol</th>\n",
       "      <td>8.150699</td>\n",
       "      <td>1.0</td>\n",
       "      <td>15.0</td>\n",
       "    </tr>\n",
       "    <tr>\n",
       "      <th>babies</th>\n",
       "      <td>7.634399</td>\n",
       "      <td>1.0</td>\n",
       "      <td>15.0</td>\n",
       "    </tr>\n",
       "    <tr>\n",
       "      <th>bakery</th>\n",
       "      <td>7.857482</td>\n",
       "      <td>1.0</td>\n",
       "      <td>15.0</td>\n",
       "    </tr>\n",
       "    <tr>\n",
       "      <th>beverages</th>\n",
       "      <td>7.682556</td>\n",
       "      <td>1.0</td>\n",
       "      <td>15.0</td>\n",
       "    </tr>\n",
       "    <tr>\n",
       "      <th>breakfast</th>\n",
       "      <td>8.031647</td>\n",
       "      <td>1.0</td>\n",
       "      <td>14.9</td>\n",
       "    </tr>\n",
       "    <tr>\n",
       "      <th>bulk</th>\n",
       "      <td>8.346919</td>\n",
       "      <td>1.4</td>\n",
       "      <td>14.1</td>\n",
       "    </tr>\n",
       "    <tr>\n",
       "      <th>canned goods</th>\n",
       "      <td>7.546660</td>\n",
       "      <td>1.0</td>\n",
       "      <td>15.0</td>\n",
       "    </tr>\n",
       "    <tr>\n",
       "      <th>dairy eggs</th>\n",
       "      <td>33.114599</td>\n",
       "      <td>1.0</td>\n",
       "      <td>99999.0</td>\n",
       "    </tr>\n",
       "    <tr>\n",
       "      <th>deli</th>\n",
       "      <td>7.783347</td>\n",
       "      <td>1.0</td>\n",
       "      <td>15.0</td>\n",
       "    </tr>\n",
       "    <tr>\n",
       "      <th>dry goods pasta</th>\n",
       "      <td>7.349370</td>\n",
       "      <td>1.0</td>\n",
       "      <td>15.0</td>\n",
       "    </tr>\n",
       "    <tr>\n",
       "      <th>frozen</th>\n",
       "      <td>7.733725</td>\n",
       "      <td>1.0</td>\n",
       "      <td>15.0</td>\n",
       "    </tr>\n",
       "    <tr>\n",
       "      <th>household</th>\n",
       "      <td>7.379951</td>\n",
       "      <td>1.0</td>\n",
       "      <td>15.0</td>\n",
       "    </tr>\n",
       "    <tr>\n",
       "      <th>international</th>\n",
       "      <td>7.678797</td>\n",
       "      <td>1.0</td>\n",
       "      <td>15.0</td>\n",
       "    </tr>\n",
       "    <tr>\n",
       "      <th>meat seafood</th>\n",
       "      <td>16.300034</td>\n",
       "      <td>8.0</td>\n",
       "      <td>25.0</td>\n",
       "    </tr>\n",
       "    <tr>\n",
       "      <th>missing</th>\n",
       "      <td>8.660655</td>\n",
       "      <td>1.0</td>\n",
       "      <td>15.0</td>\n",
       "    </tr>\n",
       "    <tr>\n",
       "      <th>other</th>\n",
       "      <td>6.961995</td>\n",
       "      <td>1.1</td>\n",
       "      <td>15.0</td>\n",
       "    </tr>\n",
       "    <tr>\n",
       "      <th>pantry</th>\n",
       "      <td>8.014482</td>\n",
       "      <td>1.0</td>\n",
       "      <td>20.0</td>\n",
       "    </tr>\n",
       "    <tr>\n",
       "      <th>personal care</th>\n",
       "      <td>7.998744</td>\n",
       "      <td>1.0</td>\n",
       "      <td>15.0</td>\n",
       "    </tr>\n",
       "    <tr>\n",
       "      <th>pets</th>\n",
       "      <td>7.887489</td>\n",
       "      <td>1.0</td>\n",
       "      <td>15.0</td>\n",
       "    </tr>\n",
       "    <tr>\n",
       "      <th>produce</th>\n",
       "      <td>7.980348</td>\n",
       "      <td>1.0</td>\n",
       "      <td>15.0</td>\n",
       "    </tr>\n",
       "    <tr>\n",
       "      <th>snacks</th>\n",
       "      <td>4.275555</td>\n",
       "      <td>1.6</td>\n",
       "      <td>7.0</td>\n",
       "    </tr>\n",
       "  </tbody>\n",
       "</table>\n",
       "</div>"
      ],
      "text/plain": [
       "                    prices              \n",
       "                      mean  min      max\n",
       "department                              \n",
       "alcohol           8.150699  1.0     15.0\n",
       "babies            7.634399  1.0     15.0\n",
       "bakery            7.857482  1.0     15.0\n",
       "beverages         7.682556  1.0     15.0\n",
       "breakfast         8.031647  1.0     14.9\n",
       "bulk              8.346919  1.4     14.1\n",
       "canned goods      7.546660  1.0     15.0\n",
       "dairy eggs       33.114599  1.0  99999.0\n",
       "deli              7.783347  1.0     15.0\n",
       "dry goods pasta   7.349370  1.0     15.0\n",
       "frozen            7.733725  1.0     15.0\n",
       "household         7.379951  1.0     15.0\n",
       "international     7.678797  1.0     15.0\n",
       "meat seafood     16.300034  8.0     25.0\n",
       "missing           8.660655  1.0     15.0\n",
       "other             6.961995  1.1     15.0\n",
       "pantry            8.014482  1.0     20.0\n",
       "personal care     7.998744  1.0     15.0\n",
       "pets              7.887489  1.0     15.0\n",
       "produce           7.980348  1.0     15.0\n",
       "snacks            4.275555  1.6      7.0"
      ]
     },
     "execution_count": 49,
     "metadata": {},
     "output_type": "execute_result"
    }
   ],
   "source": [
    "# Aggregating department spending\n",
    "df_active.groupby('department').agg({'prices' : ['mean', 'min', 'max']})"
   ]
  },
  {
   "cell_type": "code",
   "execution_count": 50,
   "id": "625bb294",
   "metadata": {},
   "outputs": [
    {
     "data": {
      "text/html": [
       "<div>\n",
       "<style scoped>\n",
       "    .dataframe tbody tr th:only-of-type {\n",
       "        vertical-align: middle;\n",
       "    }\n",
       "\n",
       "    .dataframe tbody tr th {\n",
       "        vertical-align: top;\n",
       "    }\n",
       "\n",
       "    .dataframe thead tr th {\n",
       "        text-align: left;\n",
       "    }\n",
       "\n",
       "    .dataframe thead tr:last-of-type th {\n",
       "        text-align: right;\n",
       "    }\n",
       "</style>\n",
       "<table border=\"1\" class=\"dataframe\">\n",
       "  <thead>\n",
       "    <tr>\n",
       "      <th></th>\n",
       "      <th colspan=\"3\" halign=\"left\">prices</th>\n",
       "    </tr>\n",
       "    <tr>\n",
       "      <th></th>\n",
       "      <th>mean</th>\n",
       "      <th>min</th>\n",
       "      <th>max</th>\n",
       "    </tr>\n",
       "    <tr>\n",
       "      <th>age_group</th>\n",
       "      <th></th>\n",
       "      <th></th>\n",
       "      <th></th>\n",
       "    </tr>\n",
       "  </thead>\n",
       "  <tbody>\n",
       "    <tr>\n",
       "      <th>Elderly</th>\n",
       "      <td>11.724449</td>\n",
       "      <td>1.0</td>\n",
       "      <td>99999.0</td>\n",
       "    </tr>\n",
       "    <tr>\n",
       "      <th>Middle aged</th>\n",
       "      <td>12.023692</td>\n",
       "      <td>1.0</td>\n",
       "      <td>99999.0</td>\n",
       "    </tr>\n",
       "    <tr>\n",
       "      <th>Young</th>\n",
       "      <td>12.082739</td>\n",
       "      <td>1.0</td>\n",
       "      <td>99999.0</td>\n",
       "    </tr>\n",
       "  </tbody>\n",
       "</table>\n",
       "</div>"
      ],
      "text/plain": [
       "                prices              \n",
       "                  mean  min      max\n",
       "age_group                           \n",
       "Elderly      11.724449  1.0  99999.0\n",
       "Middle aged  12.023692  1.0  99999.0\n",
       "Young        12.082739  1.0  99999.0"
      ]
     },
     "execution_count": 50,
     "metadata": {},
     "output_type": "execute_result"
    }
   ],
   "source": [
    "# Aggregating age group spending\n",
    "df_active.groupby('age_group').agg({'prices' : ['mean', 'min', 'max']})"
   ]
  },
  {
   "cell_type": "code",
   "execution_count": 51,
   "id": "8b01aa36",
   "metadata": {},
   "outputs": [
    {
     "data": {
      "text/html": [
       "<div>\n",
       "<style scoped>\n",
       "    .dataframe tbody tr th:only-of-type {\n",
       "        vertical-align: middle;\n",
       "    }\n",
       "\n",
       "    .dataframe tbody tr th {\n",
       "        vertical-align: top;\n",
       "    }\n",
       "\n",
       "    .dataframe thead tr th {\n",
       "        text-align: left;\n",
       "    }\n",
       "\n",
       "    .dataframe thead tr:last-of-type th {\n",
       "        text-align: right;\n",
       "    }\n",
       "</style>\n",
       "<table border=\"1\" class=\"dataframe\">\n",
       "  <thead>\n",
       "    <tr>\n",
       "      <th></th>\n",
       "      <th colspan=\"3\" halign=\"left\">prices</th>\n",
       "    </tr>\n",
       "    <tr>\n",
       "      <th></th>\n",
       "      <th>mean</th>\n",
       "      <th>min</th>\n",
       "      <th>max</th>\n",
       "    </tr>\n",
       "    <tr>\n",
       "      <th>income_group</th>\n",
       "      <th></th>\n",
       "      <th></th>\n",
       "      <th></th>\n",
       "    </tr>\n",
       "  </thead>\n",
       "  <tbody>\n",
       "    <tr>\n",
       "      <th>High income</th>\n",
       "      <td>16.461509</td>\n",
       "      <td>1.0</td>\n",
       "      <td>99999.0</td>\n",
       "    </tr>\n",
       "    <tr>\n",
       "      <th>Low income</th>\n",
       "      <td>6.707347</td>\n",
       "      <td>1.0</td>\n",
       "      <td>25.0</td>\n",
       "    </tr>\n",
       "    <tr>\n",
       "      <th>Middling income</th>\n",
       "      <td>8.442739</td>\n",
       "      <td>1.0</td>\n",
       "      <td>99999.0</td>\n",
       "    </tr>\n",
       "  </tbody>\n",
       "</table>\n",
       "</div>"
      ],
      "text/plain": [
       "                    prices              \n",
       "                      mean  min      max\n",
       "income_group                            \n",
       "High income      16.461509  1.0  99999.0\n",
       "Low income        6.707347  1.0     25.0\n",
       "Middling income   8.442739  1.0  99999.0"
      ]
     },
     "execution_count": 51,
     "metadata": {},
     "output_type": "execute_result"
    }
   ],
   "source": [
    "# Aggregating income spending\n",
    "df_active.groupby('income_group').agg({'prices' : ['mean', 'min', 'max']})"
   ]
  },
  {
   "cell_type": "code",
   "execution_count": 52,
   "id": "87c96e6c",
   "metadata": {},
   "outputs": [
    {
     "data": {
      "text/html": [
       "<div>\n",
       "<style scoped>\n",
       "    .dataframe tbody tr th:only-of-type {\n",
       "        vertical-align: middle;\n",
       "    }\n",
       "\n",
       "    .dataframe tbody tr th {\n",
       "        vertical-align: top;\n",
       "    }\n",
       "\n",
       "    .dataframe thead tr th {\n",
       "        text-align: left;\n",
       "    }\n",
       "\n",
       "    .dataframe thead tr:last-of-type th {\n",
       "        text-align: right;\n",
       "    }\n",
       "</style>\n",
       "<table border=\"1\" class=\"dataframe\">\n",
       "  <thead>\n",
       "    <tr>\n",
       "      <th></th>\n",
       "      <th colspan=\"3\" halign=\"left\">prices</th>\n",
       "    </tr>\n",
       "    <tr>\n",
       "      <th></th>\n",
       "      <th>mean</th>\n",
       "      <th>min</th>\n",
       "      <th>max</th>\n",
       "    </tr>\n",
       "    <tr>\n",
       "      <th>dependant_group</th>\n",
       "      <th></th>\n",
       "      <th></th>\n",
       "      <th></th>\n",
       "    </tr>\n",
       "  </thead>\n",
       "  <tbody>\n",
       "    <tr>\n",
       "      <th>Childless</th>\n",
       "      <td>12.102657</td>\n",
       "      <td>1.0</td>\n",
       "      <td>99999.0</td>\n",
       "    </tr>\n",
       "    <tr>\n",
       "      <th>Few children</th>\n",
       "      <td>11.920187</td>\n",
       "      <td>1.0</td>\n",
       "      <td>99999.0</td>\n",
       "    </tr>\n",
       "    <tr>\n",
       "      <th>Many children</th>\n",
       "      <td>11.791609</td>\n",
       "      <td>1.0</td>\n",
       "      <td>99999.0</td>\n",
       "    </tr>\n",
       "  </tbody>\n",
       "</table>\n",
       "</div>"
      ],
      "text/plain": [
       "                    prices              \n",
       "                      mean  min      max\n",
       "dependant_group                         \n",
       "Childless        12.102657  1.0  99999.0\n",
       "Few children     11.920187  1.0  99999.0\n",
       "Many children    11.791609  1.0  99999.0"
      ]
     },
     "execution_count": 52,
     "metadata": {},
     "output_type": "execute_result"
    }
   ],
   "source": [
    "# Aggregating dependant_group spending\n",
    "df_active.groupby('dependant_group').agg({'prices' : ['mean', 'min', 'max']})"
   ]
  },
  {
   "cell_type": "code",
   "execution_count": 53,
   "id": "3e691917",
   "metadata": {},
   "outputs": [
    {
     "data": {
      "text/html": [
       "<div>\n",
       "<style scoped>\n",
       "    .dataframe tbody tr th:only-of-type {\n",
       "        vertical-align: middle;\n",
       "    }\n",
       "\n",
       "    .dataframe tbody tr th {\n",
       "        vertical-align: top;\n",
       "    }\n",
       "\n",
       "    .dataframe thead tr th {\n",
       "        text-align: left;\n",
       "    }\n",
       "\n",
       "    .dataframe thead tr:last-of-type th {\n",
       "        text-align: right;\n",
       "    }\n",
       "</style>\n",
       "<table border=\"1\" class=\"dataframe\">\n",
       "  <thead>\n",
       "    <tr>\n",
       "      <th></th>\n",
       "      <th colspan=\"3\" halign=\"left\">prices</th>\n",
       "    </tr>\n",
       "    <tr>\n",
       "      <th></th>\n",
       "      <th>mean</th>\n",
       "      <th>min</th>\n",
       "      <th>max</th>\n",
       "    </tr>\n",
       "    <tr>\n",
       "      <th>household</th>\n",
       "      <th></th>\n",
       "      <th></th>\n",
       "      <th></th>\n",
       "    </tr>\n",
       "  </thead>\n",
       "  <tbody>\n",
       "    <tr>\n",
       "      <th>Family</th>\n",
       "      <td>11.877157</td>\n",
       "      <td>1.0</td>\n",
       "      <td>99999.0</td>\n",
       "    </tr>\n",
       "    <tr>\n",
       "      <th>Single</th>\n",
       "      <td>12.102657</td>\n",
       "      <td>1.0</td>\n",
       "      <td>99999.0</td>\n",
       "    </tr>\n",
       "  </tbody>\n",
       "</table>\n",
       "</div>"
      ],
      "text/plain": [
       "              prices              \n",
       "                mean  min      max\n",
       "household                         \n",
       "Family     11.877157  1.0  99999.0\n",
       "Single     12.102657  1.0  99999.0"
      ]
     },
     "execution_count": 53,
     "metadata": {},
     "output_type": "execute_result"
    }
   ],
   "source": [
    "# Aggregating household spending\n",
    "df_active.groupby('household').agg({'prices' : ['mean', 'min', 'max']})"
   ]
  },
  {
   "cell_type": "code",
   "execution_count": 54,
   "id": "b61a3afd",
   "metadata": {},
   "outputs": [
    {
     "data": {
      "text/html": [
       "<div>\n",
       "<style scoped>\n",
       "    .dataframe tbody tr th:only-of-type {\n",
       "        vertical-align: middle;\n",
       "    }\n",
       "\n",
       "    .dataframe tbody tr th {\n",
       "        vertical-align: top;\n",
       "    }\n",
       "\n",
       "    .dataframe thead tr th {\n",
       "        text-align: left;\n",
       "    }\n",
       "\n",
       "    .dataframe thead tr:last-of-type th {\n",
       "        text-align: right;\n",
       "    }\n",
       "</style>\n",
       "<table border=\"1\" class=\"dataframe\">\n",
       "  <thead>\n",
       "    <tr>\n",
       "      <th></th>\n",
       "      <th colspan=\"3\" halign=\"left\">prices</th>\n",
       "    </tr>\n",
       "    <tr>\n",
       "      <th></th>\n",
       "      <th>mean</th>\n",
       "      <th>min</th>\n",
       "      <th>max</th>\n",
       "    </tr>\n",
       "    <tr>\n",
       "      <th>vegan</th>\n",
       "      <th></th>\n",
       "      <th></th>\n",
       "      <th></th>\n",
       "    </tr>\n",
       "  </thead>\n",
       "  <tbody>\n",
       "    <tr>\n",
       "      <th>Non-Vegan</th>\n",
       "      <td>31.175737</td>\n",
       "      <td>1.0</td>\n",
       "      <td>99999.0</td>\n",
       "    </tr>\n",
       "    <tr>\n",
       "      <th>Vegan</th>\n",
       "      <td>7.449528</td>\n",
       "      <td>1.0</td>\n",
       "      <td>20.0</td>\n",
       "    </tr>\n",
       "  </tbody>\n",
       "</table>\n",
       "</div>"
      ],
      "text/plain": [
       "              prices              \n",
       "                mean  min      max\n",
       "vegan                             \n",
       "Non-Vegan  31.175737  1.0  99999.0\n",
       "Vegan       7.449528  1.0     20.0"
      ]
     },
     "execution_count": 54,
     "metadata": {},
     "output_type": "execute_result"
    }
   ],
   "source": [
    "# Aggregating vegan/non-vegan spending\n",
    "df_active.groupby('vegan').agg({'prices' : ['mean', 'min', 'max']})"
   ]
  },
  {
   "cell_type": "code",
   "execution_count": 55,
   "id": "71281c3a",
   "metadata": {},
   "outputs": [
    {
     "data": {
      "text/html": [
       "<div>\n",
       "<style scoped>\n",
       "    .dataframe tbody tr th:only-of-type {\n",
       "        vertical-align: middle;\n",
       "    }\n",
       "\n",
       "    .dataframe tbody tr th {\n",
       "        vertical-align: top;\n",
       "    }\n",
       "\n",
       "    .dataframe thead tr th {\n",
       "        text-align: left;\n",
       "    }\n",
       "\n",
       "    .dataframe thead tr:last-of-type th {\n",
       "        text-align: right;\n",
       "    }\n",
       "</style>\n",
       "<table border=\"1\" class=\"dataframe\">\n",
       "  <thead>\n",
       "    <tr>\n",
       "      <th></th>\n",
       "      <th colspan=\"3\" halign=\"left\">prices</th>\n",
       "    </tr>\n",
       "    <tr>\n",
       "      <th></th>\n",
       "      <th>mean</th>\n",
       "      <th>min</th>\n",
       "      <th>max</th>\n",
       "    </tr>\n",
       "    <tr>\n",
       "      <th>pet_owner</th>\n",
       "      <th></th>\n",
       "      <th></th>\n",
       "      <th></th>\n",
       "    </tr>\n",
       "  </thead>\n",
       "  <tbody>\n",
       "    <tr>\n",
       "      <th>Has Pets</th>\n",
       "      <td>7.887489</td>\n",
       "      <td>1.0</td>\n",
       "      <td>15.0</td>\n",
       "    </tr>\n",
       "    <tr>\n",
       "      <th>No Pets</th>\n",
       "      <td>11.945718</td>\n",
       "      <td>1.0</td>\n",
       "      <td>99999.0</td>\n",
       "    </tr>\n",
       "  </tbody>\n",
       "</table>\n",
       "</div>"
      ],
      "text/plain": [
       "              prices              \n",
       "                mean  min      max\n",
       "pet_owner                         \n",
       "Has Pets    7.887489  1.0     15.0\n",
       "No Pets    11.945718  1.0  99999.0"
      ]
     },
     "execution_count": 55,
     "metadata": {},
     "output_type": "execute_result"
    }
   ],
   "source": [
    "# Aggregating pet ownership spending\n",
    "df_active.groupby('pet_owner').agg({'prices' : ['mean', 'min', 'max']})"
   ]
  },
  {
   "cell_type": "code",
   "execution_count": 56,
   "id": "608f7765",
   "metadata": {},
   "outputs": [
    {
     "data": {
      "text/html": [
       "<div>\n",
       "<style scoped>\n",
       "    .dataframe tbody tr th:only-of-type {\n",
       "        vertical-align: middle;\n",
       "    }\n",
       "\n",
       "    .dataframe tbody tr th {\n",
       "        vertical-align: top;\n",
       "    }\n",
       "\n",
       "    .dataframe thead tr th {\n",
       "        text-align: left;\n",
       "    }\n",
       "\n",
       "    .dataframe thead tr:last-of-type th {\n",
       "        text-align: right;\n",
       "    }\n",
       "</style>\n",
       "<table border=\"1\" class=\"dataframe\">\n",
       "  <thead>\n",
       "    <tr>\n",
       "      <th></th>\n",
       "      <th colspan=\"3\" halign=\"left\">prices</th>\n",
       "    </tr>\n",
       "    <tr>\n",
       "      <th></th>\n",
       "      <th>mean</th>\n",
       "      <th>min</th>\n",
       "      <th>max</th>\n",
       "    </tr>\n",
       "    <tr>\n",
       "      <th>has_baby</th>\n",
       "      <th></th>\n",
       "      <th></th>\n",
       "      <th></th>\n",
       "    </tr>\n",
       "  </thead>\n",
       "  <tbody>\n",
       "    <tr>\n",
       "      <th>No</th>\n",
       "      <td>11.991265</td>\n",
       "      <td>1.0</td>\n",
       "      <td>99999.0</td>\n",
       "    </tr>\n",
       "    <tr>\n",
       "      <th>Yes</th>\n",
       "      <td>7.634399</td>\n",
       "      <td>1.0</td>\n",
       "      <td>15.0</td>\n",
       "    </tr>\n",
       "  </tbody>\n",
       "</table>\n",
       "</div>"
      ],
      "text/plain": [
       "             prices              \n",
       "               mean  min      max\n",
       "has_baby                         \n",
       "No        11.991265  1.0  99999.0\n",
       "Yes        7.634399  1.0     15.0"
      ]
     },
     "execution_count": 56,
     "metadata": {},
     "output_type": "execute_result"
    }
   ],
   "source": [
    "# Aggregating new parent spending\n",
    "df_active.groupby('has_baby').agg({'prices' : ['mean', 'min', 'max']})"
   ]
  },
  {
   "cell_type": "markdown",
   "id": "5ab77ccf",
   "metadata": {},
   "source": [
    "# Step 9"
   ]
  },
  {
   "cell_type": "code",
   "execution_count": 57,
   "id": "723b8a04",
   "metadata": {},
   "outputs": [
    {
     "data": {
      "text/html": [
       "<div>\n",
       "<style scoped>\n",
       "    .dataframe tbody tr th:only-of-type {\n",
       "        vertical-align: middle;\n",
       "    }\n",
       "\n",
       "    .dataframe tbody tr th {\n",
       "        vertical-align: top;\n",
       "    }\n",
       "\n",
       "    .dataframe thead th {\n",
       "        text-align: right;\n",
       "    }\n",
       "</style>\n",
       "<table border=\"1\" class=\"dataframe\">\n",
       "  <thead>\n",
       "    <tr style=\"text-align: right;\">\n",
       "      <th>income_group</th>\n",
       "      <th>High income</th>\n",
       "      <th>Low income</th>\n",
       "      <th>Middling income</th>\n",
       "    </tr>\n",
       "    <tr>\n",
       "      <th>region</th>\n",
       "      <th></th>\n",
       "      <th></th>\n",
       "      <th></th>\n",
       "    </tr>\n",
       "  </thead>\n",
       "  <tbody>\n",
       "    <tr>\n",
       "      <th>Midwest</th>\n",
       "      <td>3400093</td>\n",
       "      <td>783764</td>\n",
       "      <td>3077656</td>\n",
       "    </tr>\n",
       "    <tr>\n",
       "      <th>Northeast</th>\n",
       "      <td>2516484</td>\n",
       "      <td>587137</td>\n",
       "      <td>2361064</td>\n",
       "    </tr>\n",
       "    <tr>\n",
       "      <th>South</th>\n",
       "      <td>4663945</td>\n",
       "      <td>1142572</td>\n",
       "      <td>4504622</td>\n",
       "    </tr>\n",
       "    <tr>\n",
       "      <th>West</th>\n",
       "      <td>3626880</td>\n",
       "      <td>849081</td>\n",
       "      <td>3451266</td>\n",
       "    </tr>\n",
       "  </tbody>\n",
       "</table>\n",
       "</div>"
      ],
      "text/plain": [
       "income_group  High income  Low income  Middling income\n",
       "region                                                \n",
       "Midwest           3400093      783764          3077656\n",
       "Northeast         2516484      587137          2361064\n",
       "South             4663945     1142572          4504622\n",
       "West              3626880      849081          3451266"
      ]
     },
     "execution_count": 57,
     "metadata": {},
     "output_type": "execute_result"
    }
   ],
   "source": [
    "# Creating region_income crosstab\n",
    "region_income = pd.crosstab(df_active['region'], df_active['income_group'], dropna = False)\n",
    "region_income"
   ]
  },
  {
   "cell_type": "code",
   "execution_count": 58,
   "id": "1ac1409c",
   "metadata": {},
   "outputs": [
    {
     "data": {
      "text/plain": [
       "(array([0, 1, 2, 3]),\n",
       " [Text(0, 0, 'Midwest'),\n",
       "  Text(1, 0, 'Northeast'),\n",
       "  Text(2, 0, 'South'),\n",
       "  Text(3, 0, 'West')])"
      ]
     },
     "execution_count": 58,
     "metadata": {},
     "output_type": "execute_result"
    },
    {
     "data": {
      "image/png": "[encoded data removed]",
      "text/plain": [
       "<Figure size 640x480 with 1 Axes>"
      ]
     },
     "metadata": {},
     "output_type": "display_data"
    }
   ],
   "source": [
    "# Creating a stacked region bar chart for income by region\n",
    "bar_income_region = region_income.plot(kind = 'bar', stacked = True, color =['#43b02a', '#ff8200','#737373'])\n",
    "plt.title( \"Income by region\", fontsize= '16')\n",
    "plt.ylabel('Customers in millions', fontsize = 12)\n",
    "plt.xlabel(' ',  fontsize = 8)\n",
    "plt.xticks(rotation=45)"
   ]
  },
  {
   "cell_type": "code",
   "execution_count": 59,
   "id": "a7a1b25e",
   "metadata": {},
   "outputs": [
    {
     "data": {
      "text/html": [
       "<div>\n",
       "<style scoped>\n",
       "    .dataframe tbody tr th:only-of-type {\n",
       "        vertical-align: middle;\n",
       "    }\n",
       "\n",
       "    .dataframe tbody tr th {\n",
       "        vertical-align: top;\n",
       "    }\n",
       "\n",
       "    .dataframe thead th {\n",
       "        text-align: right;\n",
       "    }\n",
       "</style>\n",
       "<table border=\"1\" class=\"dataframe\">\n",
       "  <thead>\n",
       "    <tr style=\"text-align: right;\">\n",
       "      <th>age_group</th>\n",
       "      <th>Elderly</th>\n",
       "      <th>Middle aged</th>\n",
       "      <th>Young</th>\n",
       "    </tr>\n",
       "    <tr>\n",
       "      <th>department</th>\n",
       "      <th></th>\n",
       "      <th></th>\n",
       "      <th></th>\n",
       "    </tr>\n",
       "  </thead>\n",
       "  <tbody>\n",
       "    <tr>\n",
       "      <th>alcohol</th>\n",
       "      <td>47596</td>\n",
       "      <td>66596</td>\n",
       "      <td>30435</td>\n",
       "    </tr>\n",
       "    <tr>\n",
       "      <th>babies</th>\n",
       "      <td>138738</td>\n",
       "      <td>187584</td>\n",
       "      <td>84070</td>\n",
       "    </tr>\n",
       "    <tr>\n",
       "      <th>bakery</th>\n",
       "      <td>382446</td>\n",
       "      <td>510787</td>\n",
       "      <td>227595</td>\n",
       "    </tr>\n",
       "    <tr>\n",
       "      <th>beverages</th>\n",
       "      <td>883669</td>\n",
       "      <td>1168991</td>\n",
       "      <td>519241</td>\n",
       "    </tr>\n",
       "    <tr>\n",
       "      <th>breakfast</th>\n",
       "      <td>227751</td>\n",
       "      <td>305464</td>\n",
       "      <td>137635</td>\n",
       "    </tr>\n",
       "    <tr>\n",
       "      <th>bulk</th>\n",
       "      <td>11424</td>\n",
       "      <td>15067</td>\n",
       "      <td>6960</td>\n",
       "    </tr>\n",
       "    <tr>\n",
       "      <th>canned goods</th>\n",
       "      <td>344447</td>\n",
       "      <td>459383</td>\n",
       "      <td>208244</td>\n",
       "    </tr>\n",
       "    <tr>\n",
       "      <th>dairy eggs</th>\n",
       "      <td>1762512</td>\n",
       "      <td>2358394</td>\n",
       "      <td>1056276</td>\n",
       "    </tr>\n",
       "    <tr>\n",
       "      <th>deli</th>\n",
       "      <td>343335</td>\n",
       "      <td>456746</td>\n",
       "      <td>203753</td>\n",
       "    </tr>\n",
       "    <tr>\n",
       "      <th>dry goods pasta</th>\n",
       "      <td>280102</td>\n",
       "      <td>372926</td>\n",
       "      <td>169108</td>\n",
       "    </tr>\n",
       "    <tr>\n",
       "      <th>frozen</th>\n",
       "      <td>728963</td>\n",
       "      <td>961447</td>\n",
       "      <td>431321</td>\n",
       "    </tr>\n",
       "    <tr>\n",
       "      <th>household</th>\n",
       "      <td>240635</td>\n",
       "      <td>317406</td>\n",
       "      <td>141816</td>\n",
       "    </tr>\n",
       "    <tr>\n",
       "      <th>international</th>\n",
       "      <td>86448</td>\n",
       "      <td>116820</td>\n",
       "      <td>52723</td>\n",
       "    </tr>\n",
       "    <tr>\n",
       "      <th>meat seafood</th>\n",
       "      <td>232752</td>\n",
       "      <td>305131</td>\n",
       "      <td>136898</td>\n",
       "    </tr>\n",
       "    <tr>\n",
       "      <th>missing</th>\n",
       "      <td>21787</td>\n",
       "      <td>29302</td>\n",
       "      <td>13679</td>\n",
       "    </tr>\n",
       "    <tr>\n",
       "      <th>other</th>\n",
       "      <td>11604</td>\n",
       "      <td>15397</td>\n",
       "      <td>7410</td>\n",
       "    </tr>\n",
       "    <tr>\n",
       "      <th>pantry</th>\n",
       "      <td>609961</td>\n",
       "      <td>810883</td>\n",
       "      <td>361861</td>\n",
       "    </tr>\n",
       "    <tr>\n",
       "      <th>personal care</th>\n",
       "      <td>143728</td>\n",
       "      <td>193900</td>\n",
       "      <td>86678</td>\n",
       "    </tr>\n",
       "    <tr>\n",
       "      <th>pets</th>\n",
       "      <td>31755</td>\n",
       "      <td>41710</td>\n",
       "      <td>19595</td>\n",
       "    </tr>\n",
       "    <tr>\n",
       "      <th>produce</th>\n",
       "      <td>3104118</td>\n",
       "      <td>4131930</td>\n",
       "      <td>1843225</td>\n",
       "    </tr>\n",
       "    <tr>\n",
       "      <th>snacks</th>\n",
       "      <td>940733</td>\n",
       "      <td>1259956</td>\n",
       "      <td>565717</td>\n",
       "    </tr>\n",
       "  </tbody>\n",
       "</table>\n",
       "</div>"
      ],
      "text/plain": [
       "age_group        Elderly  Middle aged    Young\n",
       "department                                    \n",
       "alcohol            47596        66596    30435\n",
       "babies            138738       187584    84070\n",
       "bakery            382446       510787   227595\n",
       "beverages         883669      1168991   519241\n",
       "breakfast         227751       305464   137635\n",
       "bulk               11424        15067     6960\n",
       "canned goods      344447       459383   208244\n",
       "dairy eggs       1762512      2358394  1056276\n",
       "deli              343335       456746   203753\n",
       "dry goods pasta   280102       372926   169108\n",
       "frozen            728963       961447   431321\n",
       "household         240635       317406   141816\n",
       "international      86448       116820    52723\n",
       "meat seafood      232752       305131   136898\n",
       "missing            21787        29302    13679\n",
       "other              11604        15397     7410\n",
       "pantry            609961       810883   361861\n",
       "personal care     143728       193900    86678\n",
       "pets               31755        41710    19595\n",
       "produce          3104118      4131930  1843225\n",
       "snacks            940733      1259956   565717"
      ]
     },
     "execution_count": 59,
     "metadata": {},
     "output_type": "execute_result"
    }
   ],
   "source": [
    "# Creating household_depts crosstab\n",
    "household_age = pd.crosstab(df_active['department'], df_active['age_group'], dropna = False)\n",
    "household_age"
   ]
  },
  {
   "cell_type": "code",
   "execution_count": 60,
   "id": "d957a112",
   "metadata": {},
   "outputs": [
    {
     "data": {
      "text/plain": [
       "(array([ 0,  1,  2,  3,  4,  5,  6,  7,  8,  9, 10, 11, 12, 13, 14, 15, 16,\n",
       "        17, 18, 19, 20]),\n",
       " [Text(0, 0, 'alcohol'),\n",
       "  Text(1, 0, 'babies'),\n",
       "  Text(2, 0, 'bakery'),\n",
       "  Text(3, 0, 'beverages'),\n",
       "  Text(4, 0, 'breakfast'),\n",
       "  Text(5, 0, 'bulk'),\n",
       "  Text(6, 0, 'canned goods'),\n",
       "  Text(7, 0, 'dairy eggs'),\n",
       "  Text(8, 0, 'deli'),\n",
       "  Text(9, 0, 'dry goods pasta'),\n",
       "  Text(10, 0, 'frozen'),\n",
       "  Text(11, 0, 'household'),\n",
       "  Text(12, 0, 'international'),\n",
       "  Text(13, 0, 'meat seafood'),\n",
       "  Text(14, 0, 'missing'),\n",
       "  Text(15, 0, 'other'),\n",
       "  Text(16, 0, 'pantry'),\n",
       "  Text(17, 0, 'personal care'),\n",
       "  Text(18, 0, 'pets'),\n",
       "  Text(19, 0, 'produce'),\n",
       "  Text(20, 0, 'snacks')])"
      ]
     },
     "execution_count": 60,
     "metadata": {},
     "output_type": "execute_result"
    },
    {
     "data": {
      "image/png": "[encoded data removed]",
      "text/plain": [
       "<Figure size 640x480 with 1 Axes>"
      ]
     },
     "metadata": {},
     "output_type": "display_data"
    }
   ],
   "source": [
    "# Creating a stacked region bar chart for department orders by age\n",
    "bar_household_age = household_age.plot(kind = 'bar', stacked = True, color =['#43b02a', '#ff8200','#737373'])\n",
    "plt.title( \"Purchases by age\", fontsize= '16')\n",
    "plt.ylabel('Orders in millions', fontsize = 12)\n",
    "plt.xlabel(' ',  fontsize = 8)\n",
    "plt.xticks(rotation=90)"
   ]
  },
  {
   "cell_type": "markdown",
   "id": "521c4ee1",
   "metadata": {},
   "source": [
    "# Step 9"
   ]
  },
  {
   "cell_type": "code",
   "execution_count": 61,
   "id": "964222ff",
   "metadata": {},
   "outputs": [],
   "source": [
    "# Exporting dataframe\n",
    "df_active.to_pickle(os.path.join(path, '02 Data','Prepared Data', 'active_customer.pkl'))"
   ]
  },
  {
   "cell_type": "code",
   "execution_count": 64,
   "id": "16fba1b8",
   "metadata": {},
   "outputs": [],
   "source": [
    "# Exporting charts\n",
    "bar_age.figure.savefig(os.path.join(path, '04 Analysis','Visualizations', 'bar_age.png'))\n",
    "bar_income.figure.savefig(os.path.join(path, '04 Analysis','Visualizations', 'bar_income.png'))\n",
    "bar_children.figure.savefig(os.path.join(path, '04 Analysis','Visualizations', 'bar_children.png'))\n",
    "\n",
    "pie_household.figure.savefig(os.path.join(path, '04 Analysis','Visualizations', 'pie_household.png'))\n",
    "pie_vegan.figure.savefig(os.path.join(path, '04 Analysis','Visualizations', 'pie_vegan.png'))\n",
    "pie_pets.figure.savefig(os.path.join(path, '04 Analysis','Visualizations', 'pie_pets.png'))\n",
    "pie_baby.figure.savefig(os.path.join(path, '04 Analysis','Visualizations', 'pie_baby.png'))\n",
    "\n",
    "bar_income_region.figure.savefig(os.path.join(path, '04 Analysis','Visualizations', 'bar_income_region.png'))\n",
    "bar_household_age.figure.savefig(os.path.join(path, '04 Analysis','Visualizations', 'bar_household_age.png'))"
   ]
  },
  {
   "cell_type": "code",
   "execution_count": null,
   "id": "b2bb2a43",
   "metadata": {},
   "outputs": [],
   "source": []
  },
  {
   "cell_type": "code",
   "execution_count": null,
   "id": "6fd0da37",
   "metadata": {},
   "outputs": [],
   "source": []
  },
  {
   "cell_type": "code",
   "execution_count": null,
   "id": "d3f3d0bd",
   "metadata": {},
   "outputs": [],
   "source": []
  },
  {
   "cell_type": "code",
   "execution_count": null,
   "id": "d4336af7",
   "metadata": {},
   "outputs": [],
   "source": []
  },
  {
   "cell_type": "code",
   "execution_count": null,
   "id": "87355868",
   "metadata": {},
   "outputs": [],
   "source": []
  }
 ],
 "metadata": {
  "kernelspec": {
   "display_name": "Python 3 (ipykernel)",
   "language": "python",
   "name": "python3"
  },
  "language_info": {
   "codemirror_mode": {
    "name": "ipython",
    "version": 3
   },
   "file_extension": ".py",
   "mimetype": "text/x-python",
   "name": "python",
   "nbconvert_exporter": "python",
   "pygments_lexer": "ipython3",
   "version": "3.9.13"
  }
 },
 "nbformat": 4,
 "nbformat_minor": 5
}
