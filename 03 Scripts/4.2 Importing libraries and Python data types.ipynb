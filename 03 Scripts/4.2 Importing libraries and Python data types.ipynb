{
 "cells": [
  {
   "cell_type": "markdown",
   "id": "69847a84",
   "metadata": {},
   "source": [
    "# 01. Importing libraries"
   ]
  },
  {
   "cell_type": "code",
   "execution_count": 2,
   "id": "b014465d",
   "metadata": {},
   "outputs": [],
   "source": [
    "# Import libraries\n",
    "import pandas as pd\n",
    "import numpy as np\n",
    "import os"
   ]
  },
  {
   "cell_type": "markdown",
   "id": "72230f83",
   "metadata": {},
   "source": [
    "# 02. Data types"
   ]
  },
  {
   "cell_type": "markdown",
   "id": "f65d01a4",
   "metadata": {},
   "source": [
    "## Step 7"
   ]
  },
  {
   "cell_type": "code",
   "execution_count": 1,
   "id": "41043977",
   "metadata": {},
   "outputs": [],
   "source": [
    "x = 1"
   ]
  },
  {
   "cell_type": "code",
   "execution_count": 2,
   "id": "aee39f20",
   "metadata": {},
   "outputs": [
    {
     "data": {
      "text/plain": [
       "100"
      ]
     },
     "execution_count": 2,
     "metadata": {},
     "output_type": "execute_result"
    }
   ],
   "source": [
    "x + 99"
   ]
  },
  {
   "cell_type": "code",
   "execution_count": 5,
   "id": "3d584ad1",
   "metadata": {},
   "outputs": [
    {
     "name": "stdout",
     "output_type": "stream",
     "text": [
      "100\n"
     ]
    }
   ],
   "source": [
    "print(x + 50 + 49)"
   ]
  },
  {
   "cell_type": "code",
   "execution_count": 6,
   "id": "6c877785",
   "metadata": {},
   "outputs": [],
   "source": [
    "x = 200"
   ]
  },
  {
   "cell_type": "code",
   "execution_count": 7,
   "id": "d798a0d3",
   "metadata": {},
   "outputs": [
    {
     "data": {
      "text/plain": [
       "100"
      ]
     },
     "execution_count": 7,
     "metadata": {},
     "output_type": "execute_result"
    }
   ],
   "source": [
    "x - 100"
   ]
  },
  {
   "cell_type": "markdown",
   "id": "3d223e9a",
   "metadata": {},
   "source": [
    "## Step 8"
   ]
  },
  {
   "cell_type": "code",
   "execution_count": 8,
   "id": "d8329a30",
   "metadata": {},
   "outputs": [],
   "source": [
    "y = 5.678"
   ]
  },
  {
   "cell_type": "code",
   "execution_count": 9,
   "id": "99bbd675",
   "metadata": {},
   "outputs": [
    {
     "data": {
      "text/plain": [
       "float"
      ]
     },
     "execution_count": 9,
     "metadata": {},
     "output_type": "execute_result"
    }
   ],
   "source": [
    "type(y)"
   ]
  },
  {
   "cell_type": "code",
   "execution_count": 10,
   "id": "7c04a78e",
   "metadata": {},
   "outputs": [],
   "source": [
    "z = 1.23"
   ]
  },
  {
   "cell_type": "code",
   "execution_count": 11,
   "id": "0ad919ba",
   "metadata": {},
   "outputs": [
    {
     "data": {
      "text/plain": [
       "float"
      ]
     },
     "execution_count": 11,
     "metadata": {},
     "output_type": "execute_result"
    }
   ],
   "source": [
    "type(z)"
   ]
  },
  {
   "cell_type": "code",
   "execution_count": 12,
   "id": "c3245bde",
   "metadata": {},
   "outputs": [
    {
     "data": {
      "text/plain": [
       "4.616260162601626"
      ]
     },
     "execution_count": 12,
     "metadata": {},
     "output_type": "execute_result"
    }
   ],
   "source": [
    "y / z"
   ]
  },
  {
   "cell_type": "markdown",
   "id": "987903cc",
   "metadata": {},
   "source": [
    "## Step 9"
   ]
  },
  {
   "cell_type": "code",
   "execution_count": 14,
   "id": "fc28f1cc",
   "metadata": {},
   "outputs": [],
   "source": [
    "a = 'note'"
   ]
  },
  {
   "cell_type": "code",
   "execution_count": 15,
   "id": "49dfcf21",
   "metadata": {},
   "outputs": [],
   "source": [
    "b = 'book'"
   ]
  },
  {
   "cell_type": "code",
   "execution_count": 16,
   "id": "2b3f9953",
   "metadata": {},
   "outputs": [
    {
     "data": {
      "text/plain": [
       "'notebook'"
      ]
     },
     "execution_count": 16,
     "metadata": {},
     "output_type": "execute_result"
    }
   ],
   "source": [
    "a + b"
   ]
  },
  {
   "cell_type": "markdown",
   "id": "7065dad0",
   "metadata": {},
   "source": [
    "## Step 10"
   ]
  },
  {
   "cell_type": "code",
   "execution_count": 29,
   "id": "0c7a77be",
   "metadata": {},
   "outputs": [],
   "source": [
    "c = 'Hello,'"
   ]
  },
  {
   "cell_type": "code",
   "execution_count": 30,
   "id": "c4962e6f",
   "metadata": {},
   "outputs": [],
   "source": [
    "d = 'my name is Gus.'"
   ]
  },
  {
   "cell_type": "code",
   "execution_count": 31,
   "id": "0a1595da",
   "metadata": {},
   "outputs": [
    {
     "data": {
      "text/plain": [
       "'Hello,my name is Gus.'"
      ]
     },
     "execution_count": 31,
     "metadata": {},
     "output_type": "execute_result"
    }
   ],
   "source": [
    "c + d"
   ]
  },
  {
   "cell_type": "code",
   "execution_count": 37,
   "id": "d2b5c3ee",
   "metadata": {},
   "outputs": [],
   "source": [
    "e = 'I lack the creativity '"
   ]
  },
  {
   "cell_type": "code",
   "execution_count": 38,
   "id": "4c83bf6d",
   "metadata": {},
   "outputs": [],
   "source": [
    "f = 'to come up with a sentence.'"
   ]
  },
  {
   "cell_type": "code",
   "execution_count": 39,
   "id": "08065a49",
   "metadata": {},
   "outputs": [
    {
     "data": {
      "text/plain": [
       "'I lack the creativity to come up with a sentence.'"
      ]
     },
     "execution_count": 39,
     "metadata": {},
     "output_type": "execute_result"
    }
   ],
   "source": [
    "e + f"
   ]
  },
  {
   "cell_type": "markdown",
   "id": "e47dbed7",
   "metadata": {},
   "source": [
    "## Bonus Task"
   ]
  },
  {
   "cell_type": "code",
   "execution_count": 40,
   "id": "9c535996",
   "metadata": {},
   "outputs": [
    {
     "name": "stdout",
     "output_type": "stream",
     "text": [
      "I lack the creativity to come up with a sentence.to come up with a sentence.to come up with a sentence.to come up with a sentence.to come up with a sentence.to come up with a sentence.to come up with a sentence.to come up with a sentence.to come up with a sentence.to come up with a sentence.to come up with a sentence.to come up with a sentence.to come up with a sentence.to come up with a sentence.to come up with a sentence.to come up with a sentence.to come up with a sentence.to come up with a sentence.to come up with a sentence.to come up with a sentence.to come up with a sentence.to come up with a sentence.to come up with a sentence.to come up with a sentence.to come up with a sentence.to come up with a sentence.to come up with a sentence.to come up with a sentence.to come up with a sentence.to come up with a sentence.to come up with a sentence.to come up with a sentence.to come up with a sentence.to come up with a sentence.to come up with a sentence.to come up with a sentence.to come up with a sentence.to come up with a sentence.to come up with a sentence.to come up with a sentence.to come up with a sentence.to come up with a sentence.to come up with a sentence.to come up with a sentence.to come up with a sentence.to come up with a sentence.to come up with a sentence.to come up with a sentence.to come up with a sentence.to come up with a sentence.to come up with a sentence.to come up with a sentence.to come up with a sentence.to come up with a sentence.to come up with a sentence.to come up with a sentence.to come up with a sentence.to come up with a sentence.to come up with a sentence.to come up with a sentence.to come up with a sentence.to come up with a sentence.to come up with a sentence.to come up with a sentence.to come up with a sentence.to come up with a sentence.to come up with a sentence.to come up with a sentence.to come up with a sentence.to come up with a sentence.to come up with a sentence.to come up with a sentence.to come up with a sentence.to come up with a sentence.to come up with a sentence.to come up with a sentence.to come up with a sentence.to come up with a sentence.to come up with a sentence.to come up with a sentence.to come up with a sentence.to come up with a sentence.to come up with a sentence.to come up with a sentence.to come up with a sentence.to come up with a sentence.to come up with a sentence.to come up with a sentence.to come up with a sentence.to come up with a sentence.to come up with a sentence.to come up with a sentence.to come up with a sentence.to come up with a sentence.to come up with a sentence.to come up with a sentence.to come up with a sentence.to come up with a sentence.to come up with a sentence.to come up with a sentence.\n"
     ]
    }
   ],
   "source": [
    "print(e + f * 100)"
   ]
  }
 ],
 "metadata": {
  "kernelspec": {
   "display_name": "Python 3 (ipykernel)",
   "language": "python",
   "name": "python3"
  },
  "language_info": {
   "codemirror_mode": {
    "name": "ipython",
    "version": 3
   },
   "file_extension": ".py",
   "mimetype": "text/x-python",
   "name": "python",
   "nbconvert_exporter": "python",
   "pygments_lexer": "ipython3",
   "version": "3.9.13"
  }
 },
 "nbformat": 4,
 "nbformat_minor": 5
}
